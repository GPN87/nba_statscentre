{
 "cells": [
  {
   "cell_type": "code",
   "execution_count": 1,
   "id": "52bb7018",
   "metadata": {},
   "outputs": [],
   "source": [
    "import pandas as pd\n",
    "from sqlalchemy import create_engine, Column, Integer, String, Float, MetaData, Table, inspect\n",
    "from sqlalchemy.ext.declarative import declarative_base\n",
    "from sqlalchemy.orm import sessionmaker\n",
    "from sqlalchemy.ext.automap import automap_base\n",
    "from sqlalchemy import create_engine, func, inspect"
   ]
  },
  {
   "cell_type": "code",
   "execution_count": 3,
   "id": "0edc3844",
   "metadata": {},
   "outputs": [],
   "source": [
    "Base = declarative_base()\n",
    "engine = create_engine('sqlite:///../teams.sqlite')\n",
    "metadata = MetaData(bind=engine)\n",
    "Base.metadata.create_all(engine)"
   ]
  },
  {
   "cell_type": "code",
   "execution_count": 5,
   "id": "6a5ef226",
   "metadata": {},
   "outputs": [],
   "source": [
    "table = Table('teams', metadata,\n",
    "              Column('id', Integer, primary_key=True),\n",
    "              Column('team_id', Integer),\n",
    "              Column('season_year', String),\n",
    "              Column('team_name', String),\n",
    "              Column('team_conference', String),\n",
    "              Column('team_division', String),\n",
    "              Column('wins', Integer),\n",
    "              Column('losses', Integer),\n",
    "              Column('conf_rank', Integer),\n",
    "              Column('established', Integer),\n",
    "              Column('lat', Float),\n",
    "              Column('lon', Float),\n",
    "              Column('next_homegame', Float),\n",
    "              Column('avg_price_next_homegame', Integer)\n",
    "             )\n",
    "    \n",
    "Session = sessionmaker(bind=engine)\n",
    "session = Session()"
   ]
  },
  {
   "cell_type": "code",
   "execution_count": 6,
   "id": "f4bd12b1",
   "metadata": {},
   "outputs": [],
   "source": [
    "Base = automap_base()\n",
    "Base.prepare(autoload_with=engine)\n",
    "metadata = MetaData(bind=engine)"
   ]
  },
  {
   "cell_type": "code",
   "execution_count": 7,
   "id": "3fd731e6",
   "metadata": {},
   "outputs": [
    {
     "data": {
      "text/plain": [
       "['teams']"
      ]
     },
     "execution_count": 7,
     "metadata": {},
     "output_type": "execute_result"
    }
   ],
   "source": [
    "inspector = inspect(engine)\n",
    "inspector.get_table_names()\n"
   ]
  },
  {
   "cell_type": "code",
   "execution_count": 8,
   "id": "2a9adb60",
   "metadata": {},
   "outputs": [],
   "source": [
    "Base = automap_base()\n",
    "Base.prepare(engine, reflect = True)"
   ]
  },
  {
   "cell_type": "code",
   "execution_count": 9,
   "id": "d6db2cfb",
   "metadata": {},
   "outputs": [
    {
     "data": {
      "text/plain": [
       "['teams']"
      ]
     },
     "execution_count": 9,
     "metadata": {},
     "output_type": "execute_result"
    }
   ],
   "source": [
    "Base.classes.keys()"
   ]
  },
  {
   "cell_type": "code",
   "execution_count": 10,
   "id": "053be716",
   "metadata": {},
   "outputs": [],
   "source": [
    "from sqlalchemy.orm import sessionmaker\n",
    "Session = sessionmaker(bind=engine)"
   ]
  },
  {
   "cell_type": "code",
   "execution_count": 11,
   "id": "14a706b4",
   "metadata": {},
   "outputs": [],
   "source": [
    "df = pd.read_csv('merge_df.csv')"
   ]
  },
  {
   "cell_type": "code",
   "execution_count": 12,
   "id": "58d93c43",
   "metadata": {},
   "outputs": [],
   "source": [
    "df.to_sql('teams', con=engine, if_exists='replace', index=False)"
   ]
  },
  {
   "cell_type": "code",
   "execution_count": 13,
   "id": "cd69afeb",
   "metadata": {},
   "outputs": [],
   "source": [
    "engine = create_engine('sqlite:///../teams.sqlite')"
   ]
  },
  {
   "cell_type": "code",
   "execution_count": 14,
   "id": "66682f09",
   "metadata": {},
   "outputs": [
    {
     "data": {
      "text/plain": [
       "['teams']"
      ]
     },
     "execution_count": 14,
     "metadata": {},
     "output_type": "execute_result"
    }
   ],
   "source": [
    "Base.classes.keys()"
   ]
  },
  {
   "cell_type": "code",
   "execution_count": 15,
   "id": "17cc7ad0",
   "metadata": {},
   "outputs": [
    {
     "name": "stdout",
     "output_type": "stream",
     "text": [
      "Unnamed: 0 BIGINT\n",
      "team_id BIGINT\n",
      "season_year TEXT\n",
      "team_name TEXT\n",
      "team_conference TEXT\n",
      "team_division TEXT\n",
      "wins BIGINT\n",
      "losses BIGINT\n",
      "conf_rank BIGINT\n",
      "established BIGINT\n",
      "lat FLOAT\n",
      "lon FLOAT\n",
      "next_homegame TEXT\n",
      "avg_price_next_homegame BIGINT\n"
     ]
    }
   ],
   "source": [
    "columns = inspector.get_columns('teams')\n",
    "for column in columns:\n",
    "    print(column[\"name\"], column[\"type\"])\n"
   ]
  },
  {
   "cell_type": "code",
   "execution_count": 16,
   "id": "4d6799ce",
   "metadata": {},
   "outputs": [],
   "source": [
    "Teams = Base.classes.teams"
   ]
  },
  {
   "cell_type": "code",
   "execution_count": 19,
   "id": "232eea94",
   "metadata": {},
   "outputs": [
    {
     "data": {
      "text/plain": [
       "[('Golden State Warriors',),\n",
       " ('Los Angeles Clippers',),\n",
       " ('Los Angeles Lakers',),\n",
       " ('Phoenix Suns',),\n",
       " ('Sacramento Kings',)]"
      ]
     },
     "execution_count": 19,
     "metadata": {},
     "output_type": "execute_result"
    }
   ],
   "source": [
    "session.query(Teams.team_name).filter(Teams.team_division==\"Pacific\").all()"
   ]
  },
  {
   "cell_type": "code",
   "execution_count": 20,
   "id": "97002c67",
   "metadata": {},
   "outputs": [],
   "source": [
    "session.close()"
   ]
  },
  {
   "cell_type": "code",
   "execution_count": null,
   "id": "9a0012a0",
   "metadata": {},
   "outputs": [],
   "source": []
  }
 ],
 "metadata": {
  "kernelspec": {
   "display_name": "Python 3 (ipykernel)",
   "language": "python",
   "name": "python3"
  },
  "language_info": {
   "codemirror_mode": {
    "name": "ipython",
    "version": 3
   },
   "file_extension": ".py",
   "mimetype": "text/x-python",
   "name": "python",
   "nbconvert_exporter": "python",
   "pygments_lexer": "ipython3",
   "version": "3.7.7"
  }
 },
 "nbformat": 4,
 "nbformat_minor": 5
}
